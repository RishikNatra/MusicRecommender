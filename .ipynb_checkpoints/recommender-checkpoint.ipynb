{
 "cells": [
  {
   "cell_type": "code",
   "execution_count": 20,
   "id": "ecf85d08",
   "metadata": {},
   "outputs": [],
   "source": [
    "import pandas as pd\n",
    "from sklearn.feature_extraction.text import TfidfVectorizer\n",
    "from sklearn.metrics.pairwise import cosine_similarity\n",
    "from sklearn.metrics.pairwise import linear_kernel"
   ]
  },
  {
   "cell_type": "code",
   "execution_count": 34,
   "id": "c8a7f666",
   "metadata": {},
   "outputs": [
    {
     "name": "stdout",
     "output_type": "stream",
     "text": [
      "         artist                       song  \\\n",
      "0  Wishbone Ash             Right Or Wrong   \n",
      "1     Aerosmith  This Little Light Of Mine   \n",
      "2  Fall Out Boy               Dance, Dance   \n",
      "3  Janis Joplin                 Easy Rider   \n",
      "4   Moody Blues                  Peak Hour   \n",
      "\n",
      "                                                link  \\\n",
      "0       /w/wishbone+ash/right+or+wrong_20147150.html   \n",
      "1  /a/aerosmith/this+little+light+of+mine_2064448...   \n",
      "2          /f/fall+out+boy/dance+dance_10113666.html   \n",
      "3           /j/janis+joplin/easy+rider_10147381.html   \n",
      "4             /m/moody+blues/peak+hour_20291295.html   \n",
      "\n",
      "                                                text  \n",
      "0  Like to have you 'round  \\r\\nWith all the lies...  \n",
      "1  This Little Light of Mine (Light of Mine),  \\r...  \n",
      "2  She says she's no good with words but I'm wors...  \n",
      "3  Hey mama, mama, come a look at sister,  \\r\\nSh...  \n",
      "4  I see it all through my window it seems.  \\r\\n...  \n"
     ]
    }
   ],
   "source": [
    "data = pd.read_csv('spotify_millsongdata.csv')\n",
    "small_data = data.sample(n=10000, random_state=42).reset_index(drop=True)\n",
    "print(small_data.head())"
   ]
  },
  {
   "cell_type": "code",
   "execution_count": 35,
   "id": "d132e6d7",
   "metadata": {},
   "outputs": [
    {
     "name": "stdout",
     "output_type": "stream",
     "text": [
      "(10000, 34172)\n"
     ]
    }
   ],
   "source": [
    "tfidf = TfidfVectorizer(stop_words='english')\n",
    "tfidf_matrix = tfidf.fit_transform(small_data['text'])\n",
    "print(tfidf_matrix.shape)"
   ]
  },
  {
   "cell_type": "code",
   "execution_count": 36,
   "id": "dbb9370a",
   "metadata": {},
   "outputs": [
    {
     "name": "stdout",
     "output_type": "stream",
     "text": [
      "(10000, 10000)\n"
     ]
    }
   ],
   "source": [
    "cosine_sim = linear_kernel(tfidf_matrix, tfidf_matrix)\n",
    "print(cosine_sim.shape)"
   ]
  },
  {
   "cell_type": "code",
   "execution_count": 37,
   "id": "c2c0ceb7",
   "metadata": {},
   "outputs": [],
   "source": [
    "def get_recommendations(song_title, tfidf_matrix, small_data):\n",
    "    if song_title not in small_data['song'].values:\n",
    "        return f\"'{song_title}' not found in the dataset.\"\n",
    "    idx = small_data.index[small_data['song'] == song_title].tolist()[0]\n",
    "    sim_scores = linear_kernel(tfidf_matrix[idx], tfidf_matrix)\n",
    "    sim_scores = list(enumerate(sim_scores[0]))\n",
    "    sim_scores = sorted(sim_scores, key=lambda x: x[1], reverse=True)\n",
    "    song_indices = [i[0] for i in sim_scores[1:6]]\n",
    "    return small_data['song'].iloc[song_indices]"
   ]
  },
  {
   "cell_type": "code",
   "execution_count": 39,
   "id": "b4c5c3ad",
   "metadata": {},
   "outputs": [
    {
     "name": "stdout",
     "output_type": "stream",
     "text": [
      "6008         Wrong Right Wrong\n",
      "4374            Nobody's Wrong\n",
      "3708    I'm A Fool To Want You\n",
      "8573     Where Did We Go Wrong\n",
      "5037                 Wrong Way\n",
      "Name: song, dtype: object\n"
     ]
    }
   ],
   "source": [
    "recommended_songs = get_recommendations('Right Or Wrong', tfidf_matrix, small_data)\n",
    "print(recommended_songs)"
   ]
  },
  {
   "cell_type": "code",
   "execution_count": null,
   "id": "ea33520a",
   "metadata": {},
   "outputs": [],
   "source": []
  }
 ],
 "metadata": {
  "kernelspec": {
   "display_name": "Python 3 (ipykernel)",
   "language": "python",
   "name": "python3"
  },
  "language_info": {
   "codemirror_mode": {
    "name": "ipython",
    "version": 3
   },
   "file_extension": ".py",
   "mimetype": "text/x-python",
   "name": "python",
   "nbconvert_exporter": "python",
   "pygments_lexer": "ipython3",
   "version": "3.11.5"
  }
 },
 "nbformat": 4,
 "nbformat_minor": 5
}
